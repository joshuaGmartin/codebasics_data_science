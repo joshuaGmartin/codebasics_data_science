{
 "cells": [
  {
   "cell_type": "markdown",
   "id": "99dcbbca",
   "metadata": {},
   "source": [
    "## Read/Write CSV/Excel\n"
   ]
  },
  {
   "cell_type": "code",
   "execution_count": null,
   "id": "e6d79a4a",
   "metadata": {},
   "outputs": [
    {
     "data": {
      "text/html": [
       "<div>\n",
       "<style scoped>\n",
       "    .dataframe tbody tr th:only-of-type {\n",
       "        vertical-align: middle;\n",
       "    }\n",
       "\n",
       "    .dataframe tbody tr th {\n",
       "        vertical-align: top;\n",
       "    }\n",
       "\n",
       "    .dataframe thead th {\n",
       "        text-align: right;\n",
       "    }\n",
       "</style>\n",
       "<table border=\"1\" class=\"dataframe\">\n",
       "  <thead>\n",
       "    <tr style=\"text-align: right;\">\n",
       "      <th></th>\n",
       "      <th>tickers</th>\n",
       "      <th>eps</th>\n",
       "      <th>revenue</th>\n",
       "      <th>price</th>\n",
       "      <th>people</th>\n",
       "    </tr>\n",
       "  </thead>\n",
       "  <tbody>\n",
       "    <tr>\n",
       "      <th>0</th>\n",
       "      <td>GOOGL</td>\n",
       "      <td>27.82</td>\n",
       "      <td>87.0</td>\n",
       "      <td>845</td>\n",
       "      <td>larry page</td>\n",
       "    </tr>\n",
       "    <tr>\n",
       "      <th>1</th>\n",
       "      <td>WMT</td>\n",
       "      <td>4.61</td>\n",
       "      <td>484.0</td>\n",
       "      <td>65</td>\n",
       "      <td>NaN</td>\n",
       "    </tr>\n",
       "    <tr>\n",
       "      <th>2</th>\n",
       "      <td>MSFT</td>\n",
       "      <td>-1.00</td>\n",
       "      <td>85.0</td>\n",
       "      <td>64</td>\n",
       "      <td>bill gates</td>\n",
       "    </tr>\n",
       "    <tr>\n",
       "      <th>3</th>\n",
       "      <td>RIL</td>\n",
       "      <td>NaN</td>\n",
       "      <td>50.0</td>\n",
       "      <td>1023</td>\n",
       "      <td>mukesh ambani</td>\n",
       "    </tr>\n",
       "    <tr>\n",
       "      <th>4</th>\n",
       "      <td>TATA</td>\n",
       "      <td>5.60</td>\n",
       "      <td>NaN</td>\n",
       "      <td>n.a.</td>\n",
       "      <td>ratan tata</td>\n",
       "    </tr>\n",
       "  </tbody>\n",
       "</table>\n",
       "</div>"
      ],
      "text/plain": [
       "  tickers    eps  revenue price         people\n",
       "0   GOOGL  27.82     87.0   845     larry page\n",
       "1     WMT   4.61    484.0    65            NaN\n",
       "2    MSFT  -1.00     85.0    64     bill gates\n",
       "3    RIL     NaN     50.0  1023  mukesh ambani\n",
       "4    TATA   5.60      NaN  n.a.     ratan tata"
      ]
     },
     "execution_count": 3,
     "metadata": {},
     "output_type": "execute_result"
    }
   ],
   "source": [
    "# VS code crashed, lost some of this file\n",
    "import pandas as pd\n",
    "\n",
    "df = pd.read_csv(\"data/stock_data.csv\")\n",
    "df = pd.read_csv(\n",
    "    \"data/stock_data.csv\",\n",
    "    header=None,\n",
    "    names=[\"tickers\", \"eps\", \"revenue\", \"price\", \"people\"],\n",
    "    # nrows=3 #limit rows in df\n",
    "    # na_values=[\"not available\", \"n.a.\"] # set values to NaN (how also set -1 in rev?)\n",
    "    na_values={\n",
    "        \"eps\": [\"not available\", \"n.a.\"],\n",
    "        \"revenue\": [\"not available\", \"n.a.\", -1],\n",
    "        \"people\": [\"n.a.\"],\n",
    "    },\n",
    ")\n",
    "df"
   ]
  },
  {
   "cell_type": "code",
   "execution_count": 10,
   "id": "dbec47a2",
   "metadata": {},
   "outputs": [],
   "source": [
    "# write\n",
    "# df.to_csv(\"data/new.csv\")\n",
    "df.to_csv(\"data/new.csv\", index=False)"
   ]
  },
  {
   "cell_type": "code",
   "execution_count": 12,
   "id": "508a386d",
   "metadata": {},
   "outputs": [
    {
     "data": {
      "text/plain": [
       "Index(['tickers', 'eps', 'revenue', 'price', 'people'], dtype='object')"
      ]
     },
     "execution_count": 12,
     "metadata": {},
     "output_type": "execute_result"
    }
   ],
   "source": [
    "df.columns"
   ]
  },
  {
   "cell_type": "code",
   "execution_count": null,
   "id": "a514a675",
   "metadata": {},
   "outputs": [],
   "source": [
    "# df.to_csv(\"data/new.csv\", columns=['tickers', 'eps'])\n",
    "df.to_csv(\"data/new.csv\", columns=[\"tickers\", \"eps\"], header=False)"
   ]
  },
  {
   "cell_type": "code",
   "execution_count": null,
   "id": "bee04e21",
   "metadata": {},
   "outputs": [
    {
     "data": {
      "text/html": [
       "<div>\n",
       "<style scoped>\n",
       "    .dataframe tbody tr th:only-of-type {\n",
       "        vertical-align: middle;\n",
       "    }\n",
       "\n",
       "    .dataframe tbody tr th {\n",
       "        vertical-align: top;\n",
       "    }\n",
       "\n",
       "    .dataframe thead th {\n",
       "        text-align: right;\n",
       "    }\n",
       "</style>\n",
       "<table border=\"1\" class=\"dataframe\">\n",
       "  <thead>\n",
       "    <tr style=\"text-align: right;\">\n",
       "      <th></th>\n",
       "      <th>tickers</th>\n",
       "      <th>eps</th>\n",
       "      <th>revenue</th>\n",
       "      <th>price</th>\n",
       "      <th>people</th>\n",
       "    </tr>\n",
       "  </thead>\n",
       "  <tbody>\n",
       "    <tr>\n",
       "      <th>0</th>\n",
       "      <td>GOOGL</td>\n",
       "      <td>27.82</td>\n",
       "      <td>87</td>\n",
       "      <td>845</td>\n",
       "      <td>larry page</td>\n",
       "    </tr>\n",
       "    <tr>\n",
       "      <th>1</th>\n",
       "      <td>WMT</td>\n",
       "      <td>4.61</td>\n",
       "      <td>484</td>\n",
       "      <td>65</td>\n",
       "      <td>sam walton</td>\n",
       "    </tr>\n",
       "    <tr>\n",
       "      <th>2</th>\n",
       "      <td>MSFT</td>\n",
       "      <td>-1.00</td>\n",
       "      <td>85</td>\n",
       "      <td>64</td>\n",
       "      <td>bill gates</td>\n",
       "    </tr>\n",
       "    <tr>\n",
       "      <th>3</th>\n",
       "      <td>RIL</td>\n",
       "      <td>NaN</td>\n",
       "      <td>50</td>\n",
       "      <td>1023</td>\n",
       "      <td>mukesh ambani</td>\n",
       "    </tr>\n",
       "    <tr>\n",
       "      <th>4</th>\n",
       "      <td>TATA</td>\n",
       "      <td>5.60</td>\n",
       "      <td>-1</td>\n",
       "      <td>n.a.</td>\n",
       "      <td>ratan tata</td>\n",
       "    </tr>\n",
       "  </tbody>\n",
       "</table>\n",
       "</div>"
      ],
      "text/plain": [
       "  tickers    eps  revenue price         people\n",
       "0   GOOGL  27.82       87   845     larry page\n",
       "1     WMT   4.61      484    65     sam walton\n",
       "2    MSFT  -1.00       85    64     bill gates\n",
       "3    RIL     NaN       50  1023  mukesh ambani\n",
       "4    TATA   5.60       -1  n.a.     ratan tata"
      ]
     },
     "execution_count": 24,
     "metadata": {},
     "output_type": "execute_result"
    }
   ],
   "source": [
    "# excel\n",
    "# WMT person is n.a., use converter\n",
    "def convert_people_cell(cell):\n",
    "    if cell == \"n.a.\":\n",
    "        return \"sam walton\"  # should look at ticker too, but just for example\n",
    "    return cell\n",
    "\n",
    "\n",
    "def convert_eps_cell(cell):\n",
    "    if cell == \"not available\":\n",
    "        return None\n",
    "    return cell\n",
    "\n",
    "\n",
    "df = pd.read_excel(\n",
    "    \"data/stock_data.xlsx\",\n",
    "    \"Sheet1\",\n",
    "    converters={\"people\": convert_people_cell, \"eps\": convert_eps_cell},\n",
    ")\n",
    "df"
   ]
  },
  {
   "cell_type": "code",
   "execution_count": 33,
   "id": "f67a66e9",
   "metadata": {},
   "outputs": [],
   "source": [
    "# df.to_excel(\"data/new.xlsx\", sheet_name=\"stocks\")\n",
    "df.to_excel(\"data/new.xlsx\", sheet_name=\"stocks\", startrow=1, startcol=2, index=False)"
   ]
  },
  {
   "cell_type": "code",
   "execution_count": null,
   "id": "eebb14e7",
   "metadata": {},
   "outputs": [],
   "source": [
    "df_stocks = pd.DataFrame(\n",
    "    {\n",
    "        \"tickers\": [\"GOOGL\", \"WMT\", \"MSFT\"],\n",
    "        \"price\": [845, 65, 64],\n",
    "        \"pe\": [30.37, 14.26, 30.97],\n",
    "        \"eps\": [27.82, 4.61, 2.12],\n",
    "    }\n",
    ")\n",
    "\n",
    "df_weather = pd.DataFrame(\n",
    "    {\n",
    "        \"day\": [\"1/1/2017\", \"1/2/2017\", \"1/3/2017\"],\n",
    "        \"temperature\": [32, 35, 28],\n",
    "        \"event\": [\"Rain\", \"Sunny\", \"Snow\"],\n",
    "    }\n",
    ")\n",
    "\n",
    "# ExcelWriter documentation: http://xlsxwriter.readthedocs.io/working_with_pandas.html\n",
    "# make one excel with two sheets\n",
    "with pd.ExcelWriter(\"data/stocks_weather.xlsx\") as writer:\n",
    "    df_stocks.to_excel(writer, sheet_name=\"stocks\")\n",
    "    df_weather.to_excel(writer, sheet_name=\"weather\")"
   ]
  }
 ],
 "metadata": {
  "kernelspec": {
   "display_name": "base",
   "language": "python",
   "name": "python3"
  },
  "language_info": {
   "codemirror_mode": {
    "name": "ipython",
    "version": 3
   },
   "file_extension": ".py",
   "mimetype": "text/x-python",
   "name": "python",
   "nbconvert_exporter": "python",
   "pygments_lexer": "ipython3",
   "version": "3.12.2"
  }
 },
 "nbformat": 4,
 "nbformat_minor": 5
}
