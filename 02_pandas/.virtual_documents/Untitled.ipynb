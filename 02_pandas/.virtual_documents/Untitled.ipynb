import pandas as pd
df = pd.read_csv("nyc_weather.csv") #return dataframe object


df.head()


df["Temperature"].max()


df["EST"][df["Events"]=="Rain"]


# df["WindSpeedMPH"][df["EST"].str.startswith("1/")].mean()
df["WindSpeedMPH"].mean() # has some NAN 


# data cleaning is "data munging" or "data wrangling"



