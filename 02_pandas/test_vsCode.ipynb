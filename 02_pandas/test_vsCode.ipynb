{
 "cells": [
  {
   "cell_type": "markdown",
   "id": "3fe6b4fa",
   "metadata": {},
   "source": [
    "# Title"
   ]
  },
  {
   "cell_type": "code",
   "execution_count": 17,
   "id": "a29e8bc6",
   "metadata": {},
   "outputs": [
    {
     "name": "stdout",
     "output_type": "stream",
     "text": [
      "test\n"
     ]
    }
   ],
   "source": [
    "print(\"test\")"
   ]
  },
  {
   "cell_type": "markdown",
   "id": "b5026857",
   "metadata": {},
   "source": [
    "## Section 1"
   ]
  },
  {
   "cell_type": "code",
   "execution_count": 22,
   "id": "02dbc426",
   "metadata": {},
   "outputs": [
    {
     "data": {
      "text/html": [
       "<div>\n",
       "<style scoped>\n",
       "    .dataframe tbody tr th:only-of-type {\n",
       "        vertical-align: middle;\n",
       "    }\n",
       "\n",
       "    .dataframe tbody tr th {\n",
       "        vertical-align: top;\n",
       "    }\n",
       "\n",
       "    .dataframe thead th {\n",
       "        text-align: right;\n",
       "    }\n",
       "</style>\n",
       "<table border=\"1\" class=\"dataframe\">\n",
       "  <thead>\n",
       "    <tr style=\"text-align: right;\">\n",
       "      <th></th>\n",
       "      <th>0</th>\n",
       "      <th>1</th>\n",
       "      <th>2</th>\n",
       "      <th>3</th>\n",
       "      <th>4</th>\n",
       "      <th>5</th>\n",
       "    </tr>\n",
       "  </thead>\n",
       "  <tbody>\n",
       "    <tr>\n",
       "      <th>0</th>\n",
       "      <td>2024-01-01</td>\n",
       "      <td>137.45</td>\n",
       "      <td>223.55</td>\n",
       "      <td>99.12</td>\n",
       "      <td>176.33</td>\n",
       "      <td>234567</td>\n",
       "    </tr>\n",
       "    <tr>\n",
       "      <th>1</th>\n",
       "      <td>2024-01-02</td>\n",
       "      <td>189.23</td>\n",
       "      <td>210.78</td>\n",
       "      <td>145.67</td>\n",
       "      <td>190.45</td>\n",
       "      <td>321456</td>\n",
       "    </tr>\n",
       "    <tr>\n",
       "      <th>2</th>\n",
       "      <td>2024-01-03</td>\n",
       "      <td>142.87</td>\n",
       "      <td>205.32</td>\n",
       "      <td>101.45</td>\n",
       "      <td>178.90</td>\n",
       "      <td>276543</td>\n",
       "    </tr>\n",
       "    <tr>\n",
       "      <th>3</th>\n",
       "      <td>2024-01-04</td>\n",
       "      <td>156.32</td>\n",
       "      <td>218.45</td>\n",
       "      <td>120.78</td>\n",
       "      <td>185.67</td>\n",
       "      <td>198765</td>\n",
       "    </tr>\n",
       "    <tr>\n",
       "      <th>4</th>\n",
       "      <td>2024-01-05</td>\n",
       "      <td>168.99</td>\n",
       "      <td>225.67</td>\n",
       "      <td>110.23</td>\n",
       "      <td>195.23</td>\n",
       "      <td>432198</td>\n",
       "    </tr>\n",
       "  </tbody>\n",
       "</table>\n",
       "</div>"
      ],
      "text/plain": [
       "            0       1       2       3       4       5\n",
       "0  2024-01-01  137.45  223.55   99.12  176.33  234567\n",
       "1  2024-01-02  189.23  210.78  145.67  190.45  321456\n",
       "2  2024-01-03  142.87  205.32  101.45  178.90  276543\n",
       "3  2024-01-04  156.32  218.45  120.78  185.67  198765\n",
       "4  2024-01-05  168.99  225.67  110.23  195.23  432198"
      ]
     },
     "execution_count": 22,
     "metadata": {},
     "output_type": "execute_result"
    }
   ],
   "source": [
    "import pandas as pd\n",
    "\n",
    "data = [\n",
    "    [\"2024-01-01\", 137.45, 223.55, 99.12, 176.33, 234567],\n",
    "    [\"2024-01-02\", 189.23, 210.78, 145.67, 190.45, 321456],\n",
    "    [\"2024-01-03\", 142.87, 205.32, 101.45, 178.90, 276543],\n",
    "    [\"2024-01-04\", 156.32, 218.45, 120.78, 185.67, 198765],\n",
    "    [\"2024-01-05\", 168.99, 225.67, 110.23, 195.23, 432198],\n",
    "    [\"2024-01-06\", 132.56, 207.89, 98.45, 175.67, 345210],\n",
    "    [\"2024-01-07\", 149.78, 219.32, 105.67, 182.34, 289765],\n",
    "    [\"2024-01-08\", 172.45, 230.45, 118.23, 193.56, 378654],\n",
    "    [\"2024-01-09\", 145.67, 215.89, 107.12, 179.99, 287654],\n",
    "    [\"2024-01-10\", 160.89, 220.23, 115.56, 187.45, 312345],\n",
    "]\n",
    "\n",
    "df = pd.DataFrame(data)\n",
    "df.head()"
   ]
  },
  {
   "cell_type": "code",
   "execution_count": 19,
   "id": "fc32c64e",
   "metadata": {},
   "outputs": [
    {
     "data": {
      "image/png": "[encoded data removed]",
      "text/plain": [
       "<Figure size 640x480 with 1 Axes>"
      ]
     },
     "metadata": {},
     "output_type": "display_data"
    }
   ],
   "source": [
    "import matplotlib.pyplot as plt\n",
    "\n",
    "plt.scatter(df[0], df[1]);"
   ]
  },
  {
   "cell_type": "markdown",
   "id": "9d114d8a",
   "metadata": {},
   "source": [
    "click \"Jupyter Variables\" in top menu to see all varaiable ran. \n",
    "\n",
    "click pop out menu on variable to see recommend extension to view data\n",
    "\n"
   ]
  }
 ],
 "metadata": {
  "kernelspec": {
   "display_name": "base",
   "language": "python",
   "name": "python3"
  },
  "language_info": {
   "codemirror_mode": {
    "name": "ipython",
    "version": 3
   },
   "file_extension": ".py",
   "mimetype": "text/x-python",
   "name": "python",
   "nbconvert_exporter": "python",
   "pygments_lexer": "ipython3",
   "version": "3.12.2"
  }
 },
 "nbformat": 4,
 "nbformat_minor": 5
}
