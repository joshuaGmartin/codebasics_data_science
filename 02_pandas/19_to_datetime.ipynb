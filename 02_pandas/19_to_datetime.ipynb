{
 "cells": [
  {
   "cell_type": "markdown",
   "id": "25e0646b",
   "metadata": {},
   "source": [
    "## Pandas Time Series Analysis 4: to_datetime\n"
   ]
  },
  {
   "cell_type": "code",
   "execution_count": null,
   "id": "f92273f0",
   "metadata": {},
   "outputs": [
    {
     "name": "stderr",
     "output_type": "stream",
     "text": [
      "/tmp/ipykernel_84346/1814513249.py:5: UserWarning: Could not infer format, so each element will be parsed individually, falling back to `dateutil`. To ensure parsing is consistent and as-expected, please specify a format.\n",
      "  pd.to_datetime(dates, errors=\"coerce\") # change bad str to NaT\n"
     ]
    },
    {
     "data": {
      "text/plain": [
       "DatetimeIndex(['2017-01-05 14:30:00', '2017-01-05 14:30:00',\n",
       "               '2017-01-05 00:00:00', '2017-01-05 00:00:00',\n",
       "               '2017-01-05 00:00:00', '2017-01-05 00:00:00',\n",
       "                               'NaT'],\n",
       "              dtype='datetime64[ns]', freq=None)"
      ]
     },
     "execution_count": 16,
     "metadata": {},
     "output_type": "execute_result"
    }
   ],
   "source": [
    "import pandas as pd\n",
    "\n",
    "# dates can be in many, many str formats\n",
    "dates = [\n",
    "    \"2017-01-05 2:30:00 PM\",\n",
    "    \"Jan 5, 2017 14:30:00\",\n",
    "    \"01/05/2017\",\n",
    "    \"2017.01.05\",\n",
    "    \"2017/01/05\",\n",
    "    \"20170105\",\n",
    "    \"garbage str\",\n",
    "]\n",
    "# pd.to_datetime(dates, errors=\"ignore\") # ignore bad str\n",
    "pd.to_datetime(dates, errors=\"coerce\")  # change bad str to NaT"
   ]
  },
  {
   "cell_type": "code",
   "execution_count": 13,
   "id": "44596998",
   "metadata": {},
   "outputs": [
    {
     "data": {
      "text/plain": [
       "Timestamp('2017-01-05 00:00:00')"
      ]
     },
     "execution_count": 13,
     "metadata": {},
     "output_type": "execute_result"
    }
   ],
   "source": [
    "# pd.to_datetime(\"5/1/2017\", dayfirst=True) # EU dates is dd/mm/yyyy\n",
    "pd.to_datetime(\"5$1$2017\", format=\"%d$%m$%Y\")  # custom delimeter"
   ]
  },
  {
   "cell_type": "code",
   "execution_count": null,
   "id": "c60560ad",
   "metadata": {},
   "outputs": [
    {
     "data": {
      "text/plain": [
       "DatetimeIndex(['2017-07-29 10:34:38'], dtype='datetime64[ns]', freq=None)"
      ]
     },
     "execution_count": 19,
     "metadata": {},
     "output_type": "execute_result"
    }
   ],
   "source": [
    "t = 1501324478  # unix time? epoch time?\n",
    "dt = pd.to_datetime([t], unit=\"s\")\n",
    "dt"
   ]
  },
  {
   "cell_type": "code",
   "execution_count": 20,
   "id": "64624965",
   "metadata": {},
   "outputs": [
    {
     "data": {
      "text/plain": [
       "array([1501324478000000000])"
      ]
     },
     "execution_count": 20,
     "metadata": {},
     "output_type": "execute_result"
    }
   ],
   "source": [
    "dt.view(\"int64\")"
   ]
  }
 ],
 "metadata": {
  "kernelspec": {
   "display_name": "base",
   "language": "python",
   "name": "python3"
  },
  "language_info": {
   "codemirror_mode": {
    "name": "ipython",
    "version": 3
   },
   "file_extension": ".py",
   "mimetype": "text/x-python",
   "name": "python",
   "nbconvert_exporter": "python",
   "pygments_lexer": "ipython3",
   "version": "3.12.2"
  }
 },
 "nbformat": 4,
 "nbformat_minor": 5
}
