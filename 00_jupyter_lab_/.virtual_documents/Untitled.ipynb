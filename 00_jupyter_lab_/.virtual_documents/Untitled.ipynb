import pandas as pd
import matplotlib.pyplot as plt

df = pd.read_csv("STOCK_US_XNAS_AAPL.csv")
df.head()


# %matplotlib inline
df.plot(y="Close", color="Green")
plt.show()




