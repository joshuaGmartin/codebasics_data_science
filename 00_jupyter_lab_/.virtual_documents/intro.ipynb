





%%HTML
<iframe width="560" height="315" src="https://www.youtube.com/embed/4e_o4Xar5t0?si=AkOkLmGNGfiyP4wD" title="YouTube video player" frameborder="0" allow="accelerometer; autoplay; clipboard-write; encrypted-media; gyroscope; picture-in-picture; web-share" referrerpolicy="strict-origin-when-cross-origin" allowfullscreen></iframe>


import pandas as pd

df = pd.read_csv("STOCK_US_XNAS_AAPL.csv")
df.head()


# dont need for some reason:
# %matplotlib inline

df.plot(y="Close", color="Green");

# can also use: 
# import matplotlib.pyplot as plt
# df.plot(y="Close", color="Green");
# plt.show()



%lsmagic


%time for i in range(10000): i*i


%system pwd


!whoami


df["Volume"] = df["Volume"].astype(str).str.replace(",", "").str.strip() #remove commas
df["Volume"] = pd.to_numeric(df["Volume"], errors="coerce") # make int

df.plot.bar(y="Volume");




