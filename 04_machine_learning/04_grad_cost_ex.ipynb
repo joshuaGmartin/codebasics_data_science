{
 "cells": [
  {
   "cell_type": "markdown",
   "id": "f468c0af",
   "metadata": {},
   "source": [
    "## Machine Learning Tutorial Python - 4: Gradient Descent and Cost Function\n",
    "\n",
    "Excercise: find correlation between math and cs scores\n"
   ]
  },
  {
   "cell_type": "code",
   "execution_count": 5,
   "id": "265e869e",
   "metadata": {},
   "outputs": [
    {
     "data": {
      "text/html": [
       "<div>\n",
       "<style scoped>\n",
       "    .dataframe tbody tr th:only-of-type {\n",
       "        vertical-align: middle;\n",
       "    }\n",
       "\n",
       "    .dataframe tbody tr th {\n",
       "        vertical-align: top;\n",
       "    }\n",
       "\n",
       "    .dataframe thead th {\n",
       "        text-align: right;\n",
       "    }\n",
       "</style>\n",
       "<table border=\"1\" class=\"dataframe\">\n",
       "  <thead>\n",
       "    <tr style=\"text-align: right;\">\n",
       "      <th></th>\n",
       "      <th>name</th>\n",
       "      <th>math</th>\n",
       "      <th>cs</th>\n",
       "    </tr>\n",
       "  </thead>\n",
       "  <tbody>\n",
       "    <tr>\n",
       "      <th>0</th>\n",
       "      <td>david</td>\n",
       "      <td>92</td>\n",
       "      <td>98</td>\n",
       "    </tr>\n",
       "    <tr>\n",
       "      <th>1</th>\n",
       "      <td>laura</td>\n",
       "      <td>56</td>\n",
       "      <td>68</td>\n",
       "    </tr>\n",
       "    <tr>\n",
       "      <th>2</th>\n",
       "      <td>sanjay</td>\n",
       "      <td>88</td>\n",
       "      <td>81</td>\n",
       "    </tr>\n",
       "    <tr>\n",
       "      <th>3</th>\n",
       "      <td>wei</td>\n",
       "      <td>70</td>\n",
       "      <td>80</td>\n",
       "    </tr>\n",
       "    <tr>\n",
       "      <th>4</th>\n",
       "      <td>jeff</td>\n",
       "      <td>80</td>\n",
       "      <td>83</td>\n",
       "    </tr>\n",
       "    <tr>\n",
       "      <th>5</th>\n",
       "      <td>aamir</td>\n",
       "      <td>49</td>\n",
       "      <td>52</td>\n",
       "    </tr>\n",
       "    <tr>\n",
       "      <th>6</th>\n",
       "      <td>venkat</td>\n",
       "      <td>65</td>\n",
       "      <td>66</td>\n",
       "    </tr>\n",
       "    <tr>\n",
       "      <th>7</th>\n",
       "      <td>virat</td>\n",
       "      <td>35</td>\n",
       "      <td>30</td>\n",
       "    </tr>\n",
       "    <tr>\n",
       "      <th>8</th>\n",
       "      <td>arthur</td>\n",
       "      <td>66</td>\n",
       "      <td>68</td>\n",
       "    </tr>\n",
       "    <tr>\n",
       "      <th>9</th>\n",
       "      <td>paul</td>\n",
       "      <td>67</td>\n",
       "      <td>73</td>\n",
       "    </tr>\n",
       "  </tbody>\n",
       "</table>\n",
       "</div>"
      ],
      "text/plain": [
       "     name  math  cs\n",
       "0   david    92  98\n",
       "1   laura    56  68\n",
       "2  sanjay    88  81\n",
       "3     wei    70  80\n",
       "4    jeff    80  83\n",
       "5   aamir    49  52\n",
       "6  venkat    65  66\n",
       "7   virat    35  30\n",
       "8  arthur    66  68\n",
       "9    paul    67  73"
      ]
     },
     "execution_count": 5,
     "metadata": {},
     "output_type": "execute_result"
    }
   ],
   "source": [
    "import pandas as pd\n",
    "import numpy as np\n",
    "import matplotlib.pyplot as plt\n",
    "import math\n",
    "\n",
    "df = pd.read_csv(\"data/test_scores.csv\")\n",
    "df\n",
    "\n",
    "# math.isclose(1,1.001, rel_tol=1e-3)"
   ]
  },
  {
   "cell_type": "code",
   "execution_count": 6,
   "id": "cf1f1999",
   "metadata": {},
   "outputs": [],
   "source": [
    "x = np.array(df.math)\n",
    "y = np.array(df.cs)"
   ]
  },
  {
   "cell_type": "code",
   "execution_count": 7,
   "id": "d9bacf35",
   "metadata": {},
   "outputs": [
    {
     "name": "stdout",
     "output_type": "stream",
     "text": [
      "m: 1.0177365152905007 b: 1.915199650160076 md: 3.184626393704093e-08 bd: -2.2568948736534367e-06 cost: 31.60451133355178\n"
     ]
    }
   ],
   "source": [
    "def descent_gradient(x, y):\n",
    "    m_curr = b_curr = 0\n",
    "    n = len(x)\n",
    "    cost = 999  # init big\n",
    "\n",
    "    l_step = 0.0001\n",
    "\n",
    "    # while not math.isclose(0,cost, rel_tol=1e-3): # run till complete\n",
    "    # while not math.isclose(0, cost, abs_tol = 30):  # test\n",
    "    for _ in range(1000000):  # testing\n",
    "        y_pred = m_curr * x + b_curr\n",
    "        cost = (1 / n) * sum([val**2 for val in (y - y_pred)])\n",
    "        md = -(2 / n) * sum(x * (y - y_pred))\n",
    "        bd = -(2 / n) * sum(y - y_pred)\n",
    "        m_curr = m_curr - l_step * md\n",
    "        b_curr = b_curr - l_step * bd\n",
    "\n",
    "    print(\"m:\", m_curr, \"b:\", b_curr, \"md:\", md, \"bd:\", bd, \"cost:\", cost)\n",
    "\n",
    "\n",
    "descent_gradient(x, y)"
   ]
  },
  {
   "cell_type": "code",
   "execution_count": 8,
   "id": "9ffa276e",
   "metadata": {},
   "outputs": [],
   "source": [
    "# def gradient_descent(x, y):\n",
    "#     m_curr = 0\n",
    "#     b_curr = 0\n",
    "#     iterations = 1000000\n",
    "#     n = len(x)\n",
    "#     learning_rate = 0.0002\n",
    "\n",
    "#     cost_previous = 0\n",
    "\n",
    "#     for i in range(iterations):\n",
    "#         y_predicted = m_curr * x + b_curr\n",
    "#         cost = (1 / n) * sum([value**2 for value in (y - y_predicted)])\n",
    "#         md = -(2 / n) * sum(x * (y - y_predicted))\n",
    "#         bd = -(2 / n) * sum(y - y_predicted)\n",
    "#         m_curr = m_curr - learning_rate * md\n",
    "#         b_curr = b_curr - learning_rate * bd\n",
    "#         if math.isclose(cost, cost_previous, rel_tol=1e-20):\n",
    "#             break\n",
    "#         cost_previous = cost\n",
    "#         print(\"m {}, b {}, cost {}, iteration {}\".format(m_curr, b_curr, cost, i))\n",
    "\n",
    "\n",
    "# gradient_descent(x, y)"
   ]
  },
  {
   "cell_type": "code",
   "execution_count": 9,
   "id": "6cd6e21a",
   "metadata": {},
   "outputs": [
    {
     "name": "stdout",
     "output_type": "stream",
     "text": [
      "Using sklearn: Coef [1.01773624] Intercept 1.9152193111569176\n"
     ]
    }
   ],
   "source": [
    "from sklearn.linear_model import LinearRegression\n",
    "\n",
    "\n",
    "def predict_using_sklean():\n",
    "    r = LinearRegression()\n",
    "    r.fit(df[[\"math\"]], df.cs)\n",
    "    return r.coef_, r.intercept_\n",
    "\n",
    "\n",
    "m_sklearn, b_sklearn = predict_using_sklean()\n",
    "print(\"Using sklearn: Coef {} Intercept {}\".format(m_sklearn, b_sklearn))"
   ]
  }
 ],
 "metadata": {
  "kernelspec": {
   "display_name": "base",
   "language": "python",
   "name": "python3"
  },
  "language_info": {
   "codemirror_mode": {
    "name": "ipython",
    "version": 3
   },
   "file_extension": ".py",
   "mimetype": "text/x-python",
   "name": "python",
   "nbconvert_exporter": "python",
   "pygments_lexer": "ipython3",
   "version": "3.12.2"
  }
 },
 "nbformat": 4,
 "nbformat_minor": 5
}
