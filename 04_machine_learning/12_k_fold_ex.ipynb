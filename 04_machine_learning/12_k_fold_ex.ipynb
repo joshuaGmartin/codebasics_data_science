{
 "cells": [
  {
   "cell_type": "markdown",
   "id": "e3352c36",
   "metadata": {},
   "source": [
    "# Excercise\n"
   ]
  },
  {
   "cell_type": "code",
   "execution_count": 17,
   "id": "7ac9dcb9",
   "metadata": {},
   "outputs": [],
   "source": [
    "from sklearn.datasets import load_iris\n",
    "from sklearn.model_selection import cross_val_score\n",
    "from sklearn.linear_model import LinearRegression\n",
    "from sklearn.linear_model import LogisticRegression\n",
    "from sklearn.svm import SVC\n",
    "from sklearn.ensemble import RandomForestClassifier\n",
    "\n",
    "iris = load_iris()"
   ]
  },
  {
   "cell_type": "code",
   "execution_count": null,
   "id": "e3f07483",
   "metadata": {},
   "outputs": [
    {
     "name": "stdout",
     "output_type": "stream",
     "text": [
      "linr: 0.3225607248900084\n",
      "logr: 0.9733333333333334\n",
      "svc: 0.9666666666666666\n",
      "rf: 0.9533333333333334\n"
     ]
    }
   ],
   "source": [
    "print(\"linr:\", cross_val_score(LinearRegression(), iris.data, iris.target).mean())\n",
    "print(\n",
    "    \"logr:\",\n",
    "    cross_val_score(LogisticRegression(max_iter=10000), iris.data, iris.target).mean(),\n",
    ")\n",
    "print(\"svc:\", cross_val_score(SVC(), iris.data, iris.target).mean())\n",
    "print(\n",
    "    \"rf:\",\n",
    "    cross_val_score(\n",
    "        RandomForestClassifier(n_estimators=40), iris.data, iris.target\n",
    "    ).mean(),\n",
    ")"
   ]
  }
 ],
 "metadata": {
  "kernelspec": {
   "display_name": "base",
   "language": "python",
   "name": "python3"
  },
  "language_info": {
   "codemirror_mode": {
    "name": "ipython",
    "version": 3
   },
   "file_extension": ".py",
   "mimetype": "text/x-python",
   "name": "python",
   "nbconvert_exporter": "python",
   "pygments_lexer": "ipython3",
   "version": "3.12.2"
  }
 },
 "nbformat": 4,
 "nbformat_minor": 5
}
