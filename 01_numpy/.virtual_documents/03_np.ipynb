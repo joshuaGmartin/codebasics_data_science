import numpy as np


a = np.arange(12).reshape(3,4)
a


for row in a:
    for cell in row:
        print(cell)


# no need nested for loop
for cell in a.flatten():
    print(cell)


for x in np.nditer(a,order="C"):
    print(x)


# fortran order (columns)
for x in np.nditer(a,order="F"):
    print(x)


# whole col
for x in np.nditer(a,order="F", flags=["external_loop"]):
    print(x)


for x in np.nditer(a,op_flags=["readwrite"]):
    x[...] = x*x
a


b = np.arange(3,15,4).reshape(3,1)
b


for x, y in np.nditer([a,b]): # automatically stays in b row until a finishes
    print(x,y)



