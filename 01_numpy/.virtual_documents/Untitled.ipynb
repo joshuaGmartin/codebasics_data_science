import numpy as np


a = np.arange(12).reshape(3,4)
a


for row in a:
    for cell in row:
        print(cell)


# no need nested for loop
for cell in a.flatten():
    print(cell)


for x in np.nditer(a,order="C"):
    print(x)


# fortran order (columns)
for x in np.nditer(a,order="F"):
    print(x)


# whole col
for x in np.nditer(a,order="F", flags=["external_loop"]):
    print(x)


for x in np.nditer(a,op_flag=["readwrite"]):
    x[...] = x*x



